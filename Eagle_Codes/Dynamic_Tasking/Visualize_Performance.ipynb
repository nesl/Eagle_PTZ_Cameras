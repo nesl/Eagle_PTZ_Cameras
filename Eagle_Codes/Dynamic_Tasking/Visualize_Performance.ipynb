{
 "cells": [
  {
   "cell_type": "markdown",
   "metadata": {},
   "source": [
    "# See the runtime performance of Tasking"
   ]
  },
  {
   "cell_type": "code",
   "execution_count": 1,
   "metadata": {},
   "outputs": [],
   "source": [
    "# function to get data from pickle\n",
    "import pickle\n",
    "import numpy as np\n",
    "\n",
    "\n",
    "def get_data(save_name, vis = False):\n",
    "    with open(save_name, 'rb') as handle:\n",
    "        data = pickle.load(handle)\n",
    "    \n",
    "    [time_taken, total_rewards, local_steps_mean, rewards_x, rewards_y, black_rewards] = data\n",
    "    \n",
    "    if vis:\n",
    "        print('Total episodes:', len(total_rewards))\n",
    "        print('Average Steps:', int(np.mean(local_steps_mean)), int(np.std(local_steps_mean)))\n",
    "        print('Avg Time taken:', int(np.mean(time_taken)*1000))\n",
    "        print('Average Reward is:', round(np.mean(total_rewards),2))\n",
    "        print('%tracking is:', int(np.mean(local_steps_mean))/20)\n",
    "        print('obj_size:', round(np.mean(black_rewards),2), round(np.std(black_rewards),2))\n",
    "        print('*'*50)\n",
    "    \n",
    "    time_taken = np.array(time_taken)\n",
    "    total_rewards = np.array(total_rewards)\n",
    "    local_steps_mean = np.array(local_steps_mean)\n",
    "    rewards_x = np.array(rewards_x)\n",
    "    rewards_y = np.array(rewards_y)\n",
    "    black_rewards = np.array(black_rewards)\n",
    "    \n",
    "    return [time_taken, total_rewards, local_steps_mean, rewards_x, rewards_y, black_rewards]"
   ]
  },
  {
   "cell_type": "markdown",
   "metadata": {},
   "source": [
    "## Testing of Tasking\n",
    "- Performance may differ a little on each run, and depending on simulation delays in server machine"
   ]
  },
  {
   "cell_type": "markdown",
   "metadata": {},
   "source": [
    "### Tracking Humans\n",
    "- Simple backgrounds"
   ]
  },
  {
   "cell_type": "code",
   "execution_count": 4,
   "metadata": {},
   "outputs": [
    {
     "name": "stdout",
     "output_type": "stream",
     "text": [
      "File is: Trained_dt/human1.pickle\n",
      "Total episodes: 57\n",
      "Average Steps: 1916 305\n",
      "Avg Time taken: 19\n",
      "Average Reward is: 373.94\n",
      "%tracking is: 95.8\n",
      "obj_size: 0.24 0.1\n",
      "**************************************************\n",
      "**************************************************\n",
      "Total Episodes: 57\n",
      "Average Steps: 1916 305\n",
      "%Tracking: 95.8 15.25\n",
      "center_x: 0.89 0.13\n",
      "center_y: 0.91 0.1\n",
      "obj_size: 0.24 0.1\n",
      "********************************************************************************************************************************************************************************************************\n",
      "95.8 0.89 0.91 0.24\n"
     ]
    }
   ],
   "source": [
    "# Average performance of several episodes across checkpoints\n",
    "save_name = 'Trained_dt/human1.pickle'\n",
    "\n",
    "print('File is:', save_name)\n",
    "data = get_data(save_name, vis=True)\n",
    "\n",
    "[_, total_rewards, local_steps_mean, rewards_x, rewards_y, black_rewards] = data\n",
    "\n",
    "\n",
    "print('*'*50)\n",
    "print('Total Episodes:', len(total_rewards))\n",
    "print('Average Steps:', int(np.mean(local_steps_mean)), int(np.std(local_steps_mean)))\n",
    "print('%Tracking:', int(np.mean(local_steps_mean))/20, int(np.std(local_steps_mean))/20)\n",
    "print('center_x:', round(np.mean(rewards_x),2), round(np.std(rewards_x),2))\n",
    "print('center_y:', round(np.mean(rewards_y),2), round(np.std(rewards_y),2))\n",
    "print('obj_size:', round(np.mean(black_rewards),2), round(np.std(black_rewards),2))\n",
    "\n",
    "print('*'*200)\n",
    "print(round(np.mean(local_steps_mean)/20, 1), round(np.mean(rewards_x),2), round(np.mean(rewards_y),2), round(np.mean(black_rewards),2))"
   ]
  },
  {
   "cell_type": "markdown",
   "metadata": {},
   "source": [
    "### Tracking cars\n",
    "- Simple backgrounds"
   ]
  },
  {
   "cell_type": "code",
   "execution_count": 5,
   "metadata": {},
   "outputs": [
    {
     "name": "stdout",
     "output_type": "stream",
     "text": [
      "File is: Trained_dt/car1.pickle\n",
      "Total episodes: 100\n",
      "Average Steps: 1969 195\n",
      "Avg Time taken: 21\n",
      "Average Reward is: 366.24\n",
      "%tracking is: 98.45\n",
      "obj_size: 0.31 0.15\n",
      "**************************************************\n",
      "**************************************************\n",
      "Total Episodes: 100\n",
      "Average Steps: 1969 195\n",
      "%Tracking: 98.45 9.75\n",
      "center_x: 0.87 0.11\n",
      "center_y: 0.85 0.1\n",
      "obj_size: 0.31 0.15\n",
      "********************************************************************************************************************************************************************************************************\n",
      "98.5 0.87 0.85 0.31\n"
     ]
    }
   ],
   "source": [
    "# Average performance of several episodes across checkpoints\n",
    "save_name = 'Trained_dt/car1.pickle'\n",
    "\n",
    "print('File is:', save_name)\n",
    "data = get_data(save_name, vis=True)\n",
    "\n",
    "[_, total_rewards, local_steps_mean, rewards_x, rewards_y, black_rewards] = data\n",
    "\n",
    "\n",
    "print('*'*50)\n",
    "print('Total Episodes:', len(total_rewards))\n",
    "print('Average Steps:', int(np.mean(local_steps_mean)), int(np.std(local_steps_mean)))\n",
    "print('%Tracking:', int(np.mean(local_steps_mean))/20, int(np.std(local_steps_mean))/20)\n",
    "print('center_x:', round(np.mean(rewards_x),2), round(np.std(rewards_x),2))\n",
    "print('center_y:', round(np.mean(rewards_y),2), round(np.std(rewards_y),2))\n",
    "print('obj_size:', round(np.mean(black_rewards),2), round(np.std(black_rewards),2))\n",
    "\n",
    "print('*'*200)\n",
    "print(round(np.mean(local_steps_mean)/20, 1), round(np.mean(rewards_x),2), round(np.mean(rewards_y),2), round(np.mean(black_rewards),2))"
   ]
  },
  {
   "cell_type": "markdown",
   "metadata": {},
   "source": [
    "### Tracking Humans\n",
    "- Variable backgrounds + Trees"
   ]
  },
  {
   "cell_type": "code",
   "execution_count": 7,
   "metadata": {},
   "outputs": [
    {
     "name": "stdout",
     "output_type": "stream",
     "text": [
      "File is: Trained_dt/human2.pickle\n",
      "Total episodes: 64\n",
      "Average Steps: 1725 454\n",
      "Avg Time taken: 23\n",
      "Average Reward is: 342.19\n",
      "%tracking is: 86.25\n",
      "obj_size: 0.28 0.1\n",
      "**************************************************\n",
      "**************************************************\n",
      "Total Episodes: 64\n",
      "Average Steps: 1725 454\n",
      "%Tracking: 86.25 22.7\n",
      "center_x: 0.89 0.11\n",
      "center_y: 0.9 0.1\n",
      "obj_size: 0.28 0.1\n",
      "********************************************************************************************************************************************************************************************************\n",
      "86.3 0.89 0.9 0.28\n"
     ]
    }
   ],
   "source": [
    "# Average performance of several episodes across checkpoints\n",
    "save_name = 'Trained_dt/human2.pickle'\n",
    "\n",
    "print('File is:', save_name)\n",
    "data = get_data(save_name, vis=True)\n",
    "\n",
    "[_, total_rewards, local_steps_mean, rewards_x, rewards_y, black_rewards] = data\n",
    "\n",
    "\n",
    "print('*'*50)\n",
    "print('Total Episodes:', len(total_rewards))\n",
    "print('Average Steps:', int(np.mean(local_steps_mean)), int(np.std(local_steps_mean)))\n",
    "print('%Tracking:', int(np.mean(local_steps_mean))/20, int(np.std(local_steps_mean))/20)\n",
    "print('center_x:', round(np.mean(rewards_x),2), round(np.std(rewards_x),2))\n",
    "print('center_y:', round(np.mean(rewards_y),2), round(np.std(rewards_y),2))\n",
    "print('obj_size:', round(np.mean(black_rewards),2), round(np.std(black_rewards),2))\n",
    "\n",
    "print('*'*200)\n",
    "print(round(np.mean(local_steps_mean)/20, 1), round(np.mean(rewards_x),2), round(np.mean(rewards_y),2), round(np.mean(black_rewards),2))"
   ]
  },
  {
   "cell_type": "markdown",
   "metadata": {},
   "source": [
    "### Tracking Cars\n",
    "- Variable backgrounds + Trees"
   ]
  },
  {
   "cell_type": "code",
   "execution_count": 8,
   "metadata": {},
   "outputs": [
    {
     "name": "stdout",
     "output_type": "stream",
     "text": [
      "File is: Trained_dt/car2.pickle\n",
      "Total episodes: 99\n",
      "Average Steps: 1839 374\n",
      "Avg Time taken: 25\n",
      "Average Reward is: 309.52\n",
      "%tracking is: 91.95\n",
      "obj_size: 0.31 0.15\n",
      "**************************************************\n",
      "**************************************************\n",
      "Total Episodes: 99\n",
      "Average Steps: 1839 374\n",
      "%Tracking: 91.95 18.7\n",
      "center_x: 0.85 0.12\n",
      "center_y: 0.84 0.12\n",
      "obj_size: 0.31 0.15\n",
      "********************************************************************************************************************************************************************************************************\n",
      "92.0 0.85 0.84 0.31\n"
     ]
    }
   ],
   "source": [
    "# Average performance of several episodes across checkpoints\n",
    "save_name = 'Trained_dt/car2.pickle'\n",
    "\n",
    "print('File is:', save_name)\n",
    "data = get_data(save_name, vis=True)\n",
    "\n",
    "[_, total_rewards, local_steps_mean, rewards_x, rewards_y, black_rewards] = data\n",
    "\n",
    "\n",
    "print('*'*50)\n",
    "print('Total Episodes:', len(total_rewards))\n",
    "print('Average Steps:', int(np.mean(local_steps_mean)), int(np.std(local_steps_mean)))\n",
    "print('%Tracking:', int(np.mean(local_steps_mean))/20, int(np.std(local_steps_mean))/20)\n",
    "print('center_x:', round(np.mean(rewards_x),2), round(np.std(rewards_x),2))\n",
    "print('center_y:', round(np.mean(rewards_y),2), round(np.std(rewards_y),2))\n",
    "print('obj_size:', round(np.mean(black_rewards),2), round(np.std(black_rewards),2))\n",
    "\n",
    "print('*'*200)\n",
    "print(round(np.mean(local_steps_mean)/20, 1), round(np.mean(rewards_x),2), round(np.mean(rewards_y),2), round(np.mean(black_rewards),2))"
   ]
  },
  {
   "cell_type": "code",
   "execution_count": null,
   "metadata": {},
   "outputs": [],
   "source": []
  }
 ],
 "metadata": {
  "kernelspec": {
   "display_name": "Python 3",
   "language": "python",
   "name": "python3"
  },
  "language_info": {
   "codemirror_mode": {
    "name": "ipython",
    "version": 3
   },
   "file_extension": ".py",
   "mimetype": "text/x-python",
   "name": "python",
   "nbconvert_exporter": "python",
   "pygments_lexer": "ipython3",
   "version": "3.8.10"
  }
 },
 "nbformat": 4,
 "nbformat_minor": 5
}
