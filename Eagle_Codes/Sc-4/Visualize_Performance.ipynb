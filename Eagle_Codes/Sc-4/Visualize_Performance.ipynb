{
 "cells": [
  {
   "cell_type": "markdown",
   "id": "e8584143",
   "metadata": {},
   "source": [
    "# See the runtime performance of models"
   ]
  },
  {
   "cell_type": "code",
   "execution_count": 3,
   "id": "1284553d",
   "metadata": {},
   "outputs": [],
   "source": [
    "# function to get data from pickle\n",
    "import pickle\n",
    "import numpy as np\n",
    "\n",
    "\n",
    "def get_data(save_name, vis = False):\n",
    "    with open(save_name, 'rb') as handle:\n",
    "        data = pickle.load(handle)\n",
    "    \n",
    "    [time_taken, total_rewards, local_steps_mean, rewards_x, rewards_y, black_rewards] = data\n",
    "    \n",
    "    if vis:\n",
    "        print('Total episodes:', len(total_rewards))\n",
    "        print('Average Steps:', int(np.mean(local_steps_mean)), int(np.std(local_steps_mean)))\n",
    "        print('Avg Time taken:', int(np.mean(time_taken)*1000))\n",
    "        print('Average Reward is:', round(np.mean(total_rewards),2))\n",
    "        print('%tracking is:', int(np.mean(local_steps_mean))/20)\n",
    "        print('obj_size:', round(np.mean(black_rewards),2), round(np.std(black_rewards),2))\n",
    "        print('*'*50)\n",
    "    \n",
    "    time_taken = np.array(time_taken)\n",
    "    total_rewards = np.array(total_rewards)\n",
    "    local_steps_mean = np.array(local_steps_mean)\n",
    "    rewards_x = np.array(rewards_x)\n",
    "    rewards_y = np.array(rewards_y)\n",
    "    black_rewards = np.array(black_rewards)\n",
    "    \n",
    "    return [time_taken, total_rewards, local_steps_mean, rewards_x, rewards_y, black_rewards]"
   ]
  },
  {
   "cell_type": "markdown",
   "id": "8e39d42c",
   "metadata": {},
   "source": [
    "## Testing on complex scenes: Variable backgrounds + Trees + Humans\n",
    "- Performance may differ a little on each run, and depending on simulation delays in server machine.\n",
    "- Overall %tracking is maintained ~99% on an average across checkpoints in complex scenes"
   ]
  },
  {
   "cell_type": "code",
   "execution_count": 5,
   "id": "c3c364ee",
   "metadata": {},
   "outputs": [
    {
     "name": "stdout",
     "output_type": "stream",
     "text": [
      "File is: Trained_sc4/evaluation_complex.pickle\n",
      "Total episodes: 100\n",
      "Average Steps: 1981 134\n",
      "Avg Time taken: 26\n",
      "Average Reward is: 372.31\n",
      "%tracking is: 99.05\n",
      "obj_size: 0.27 0.12\n",
      "**************************************************\n",
      "File is: Trained_sc4/evaluation_complex2.pickle\n",
      "Total episodes: 100\n",
      "Average Steps: 1978 132\n",
      "Avg Time taken: 26\n",
      "Average Reward is: 377.23\n",
      "%tracking is: 98.9\n",
      "obj_size: 0.32 0.13\n",
      "**************************************************\n",
      "File is: Trained_sc4/evaluation_complex3.pickle\n",
      "Total episodes: 100\n",
      "Average Steps: 1960 202\n",
      "Avg Time taken: 26\n",
      "Average Reward is: 314.01\n",
      "%tracking is: 98.0\n",
      "obj_size: 0.29 0.17\n",
      "**************************************************\n",
      "**************************************************\n",
      "Total Episodes: 300\n",
      "Average Steps: 1973 160\n",
      "Average Time per step (ms): 26.21 2.39\n",
      "%Tracking: 98.65 8.0\n",
      "center_x: 0.87 0.11\n",
      "center_y: 0.86 0.1\n",
      "obj_size: 0.3 0.14\n",
      "********************************************************************************************************************************************************************************************************\n",
      "98.7 0.87 0.86 0.3\n"
     ]
    }
   ],
   "source": [
    "#1 checkpoint\n",
    "save_name = 'Trained_sc4/evaluation_complex.pickle'\n",
    "\n",
    "print('File is:', save_name)\n",
    "data = get_data(save_name, vis=True)\n",
    "\n",
    "[time_taken, total_rewards, local_steps_mean, rewards_x, rewards_y, black_rewards] = data\n",
    "\n",
    "#2 checkpoint\n",
    "save_name = 'Trained_sc4/evaluation_complex2.pickle'\n",
    "print('File is:', save_name)\n",
    "data = get_data(save_name, vis=True)\n",
    "\n",
    "[time_taken2, total_rewards2, local_steps_mean2, rewards_x2, rewards_y2, black_rewards2] = data\n",
    "\n",
    "#3 checkpoint\n",
    "save_name = 'Trained_sc4/evaluation_complex3.pickle'\n",
    "print('File is:', save_name)\n",
    "data = get_data(save_name, vis=True)\n",
    "\n",
    "[time_taken3, total_rewards3, local_steps_mean3, rewards_x3, rewards_y3, black_rewards3] = data\n",
    "\n",
    "\n",
    "time_taken = np.hstack((time_taken, time_taken2, time_taken3)) \n",
    "total_rewards = np.hstack((total_rewards, total_rewards2, total_rewards3)) \n",
    "local_steps_mean = np.hstack((local_steps_mean, local_steps_mean2, local_steps_mean3)) \n",
    "rewards_x = np.hstack((rewards_x, rewards_x2, rewards_x3)) \n",
    "rewards_y = np.hstack((rewards_y, rewards_y2, rewards_y3)) \n",
    "black_rewards = np.hstack((black_rewards, black_rewards2, black_rewards3)) \n",
    "\n",
    "\n",
    "print('*'*50)\n",
    "print('Total Episodes:', len(total_rewards))\n",
    "print('Average Steps:', int(np.mean(local_steps_mean)), int(np.std(local_steps_mean)))\n",
    "print('Average Time per step (ms):', round(np.mean(time_taken)*1000.0, 2), round(np.std(time_taken)*1000.0, 2))\n",
    "print('%Tracking:', int(np.mean(local_steps_mean))/20, int(np.std(local_steps_mean))/20)\n",
    "print('center_x:', round(np.mean(rewards_x),2), round(np.std(rewards_x),2))\n",
    "print('center_y:', round(np.mean(rewards_y),2), round(np.std(rewards_y),2))\n",
    "print('obj_size:', round(np.mean(black_rewards),2), round(np.std(black_rewards),2))\n",
    "\n",
    "print('*'*200)\n",
    "print(round(np.mean(local_steps_mean)/20, 1), round(np.mean(rewards_x),2), round(np.mean(rewards_y),2), round(np.mean(black_rewards),2))"
   ]
  },
  {
   "cell_type": "code",
   "execution_count": null,
   "id": "a77a9860",
   "metadata": {},
   "outputs": [],
   "source": []
  }
 ],
 "metadata": {
  "kernelspec": {
   "display_name": "Python 3",
   "language": "python",
   "name": "python3"
  },
  "language_info": {
   "codemirror_mode": {
    "name": "ipython",
    "version": 3
   },
   "file_extension": ".py",
   "mimetype": "text/x-python",
   "name": "python",
   "nbconvert_exporter": "python",
   "pygments_lexer": "ipython3",
   "version": "3.6.15"
  }
 },
 "nbformat": 4,
 "nbformat_minor": 5
}
