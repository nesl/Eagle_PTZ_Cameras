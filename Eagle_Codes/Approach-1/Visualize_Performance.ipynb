{
 "cells": [
  {
   "cell_type": "markdown",
   "metadata": {},
   "source": [
    "# See the runtime performance of Approach"
   ]
  },
  {
   "cell_type": "code",
   "execution_count": 1,
   "metadata": {},
   "outputs": [],
   "source": [
    "# function to get data from pickle\n",
    "import pickle\n",
    "import numpy as np\n",
    "\n",
    "\n",
    "def get_data(save_name, vis = False):\n",
    "    with open(save_name, 'rb') as handle:\n",
    "        data = pickle.load(handle)\n",
    "    \n",
    "    [time_taken, total_rewards, local_steps_mean, rewards_x, rewards_y, black_rewards] = data\n",
    "    \n",
    "    if vis:\n",
    "        print('Total episodes:', len(total_rewards))\n",
    "        print('Average Steps:', int(np.mean(local_steps_mean)), int(np.std(local_steps_mean)))\n",
    "        print('Avg Time taken:', int(np.mean(time_taken)*1000))\n",
    "        print('Average Reward is:', round(np.mean(total_rewards),2))\n",
    "        print('%tracking is:', int(np.mean(local_steps_mean))/20)\n",
    "        print('obj_size:', round(np.mean(black_rewards),2), round(np.std(black_rewards),2))\n",
    "        print('*'*50)\n",
    "    \n",
    "    time_taken = np.array(time_taken)\n",
    "    total_rewards = np.array(total_rewards)\n",
    "    local_steps_mean = np.array(local_steps_mean)\n",
    "    rewards_x = np.array(rewards_x)\n",
    "    rewards_y = np.array(rewards_y)\n",
    "    black_rewards = np.array(black_rewards)\n",
    "    \n",
    "    return [time_taken, total_rewards, local_steps_mean, rewards_x, rewards_y, black_rewards]"
   ]
  },
  {
   "cell_type": "markdown",
   "metadata": {},
   "source": [
    "## Testing of PerfectBB+Kalman+Controller\n",
    "- Performance may differ a little on each run, and depending on simulation delays in server machine\n",
    "- Overall %tracking is maintained >98% on an average across runs\n",
    "- In Pefect Bounding-boxes, performance doesn't depend on scene complexity"
   ]
  },
  {
   "cell_type": "code",
   "execution_count": 2,
   "metadata": {},
   "outputs": [
    {
     "name": "stdout",
     "output_type": "stream",
     "text": [
      "File is: pickles/evaluate_perfectBB.pickle\n",
      "Total episodes: 100\n",
      "Average Steps: 1966 169\n",
      "Avg Time taken: 29\n",
      "Average Reward is: 337.93\n",
      "%tracking is: 98.3\n",
      "obj_size: 0.33 0.09\n",
      "**************************************************\n",
      "**************************************************\n",
      "Total Episodes: 100\n",
      "Average Steps: 1966 169\n",
      "Average Time per step (ms): 29.87 2.27\n",
      "%Tracking: 98.3 8.45\n",
      "center_x: 0.85 0.11\n",
      "center_y: 0.83 0.13\n",
      "obj_size: 0.33 0.09\n",
      "********************************************************************************************************************************************************************************************************\n",
      "98.3 0.85 0.83 0.33\n"
     ]
    }
   ],
   "source": [
    "# Average performance of 100 episodes\n",
    "save_name = 'pickles/evaluate_perfectBB.pickle'\n",
    "\n",
    "print('File is:', save_name)\n",
    "data = get_data(save_name, vis=True)\n",
    "\n",
    "[time_taken, total_rewards, local_steps_mean, rewards_x, rewards_y, black_rewards] = data\n",
    "\n",
    "\n",
    "print('*'*50)\n",
    "print('Total Episodes:', len(total_rewards))\n",
    "print('Average Steps:', int(np.mean(local_steps_mean)), int(np.std(local_steps_mean)))\n",
    "print('Average Time per step (ms):', round(np.mean(time_taken)*1000.0, 2), round(np.std(time_taken)*1000.0, 2))\n",
    "print('%Tracking:', int(np.mean(local_steps_mean))/20, int(np.std(local_steps_mean))/20)\n",
    "print('center_x:', round(np.mean(rewards_x),2), round(np.std(rewards_x),2))\n",
    "print('center_y:', round(np.mean(rewards_y),2), round(np.std(rewards_y),2))\n",
    "print('obj_size:', round(np.mean(black_rewards),2), round(np.std(black_rewards),2))\n",
    "\n",
    "print('*'*200)\n",
    "print(round(np.mean(local_steps_mean)/20, 1), round(np.mean(rewards_x),2), round(np.mean(rewards_y),2), round(np.mean(black_rewards),2))"
   ]
  },
  {
   "cell_type": "code",
   "execution_count": null,
   "metadata": {},
   "outputs": [],
   "source": []
  },
  {
   "cell_type": "markdown",
   "metadata": {},
   "source": [
    "## Testing of Yolo+Kalman+Controller\n",
    "- Performance may differ a little on each run, and depending on simulation delays in server machine\n",
    "- Overall tracking is poor in Complex Scenes, and it works well in simple scenes"
   ]
  },
  {
   "cell_type": "markdown",
   "metadata": {},
   "source": [
    "### Complex-Scenes: Tracking car with Humans+Trees+Variable backgrounds\n",
    "- Peformance is in ~70% tracking: (74-76% mosty with STD as shown in paper)"
   ]
  },
  {
   "cell_type": "code",
   "execution_count": 7,
   "metadata": {},
   "outputs": [
    {
     "name": "stdout",
     "output_type": "stream",
     "text": [
      "File is: pickles/evaluate_complex.pickle\n",
      "Total episodes: 21\n",
      "Average Steps: 1487 619\n",
      "Avg Time taken: 30\n",
      "Average Reward is: 180.57\n",
      "%tracking is: 74.35\n",
      "obj_size: 0.24 0.12\n",
      "**************************************************\n",
      "**************************************************\n",
      "Total Episodes: 21\n",
      "Average Steps: 1487 619\n",
      "Average Time per step (ms): 30.92 3.74\n",
      "%Tracking: 74.35 30.95\n",
      "center_x: 0.81 0.14\n",
      "center_y: 0.84 0.13\n",
      "obj_size: 0.24 0.12\n",
      "********************************************************************************************************************************************************************************************************\n",
      "74.4 0.81 0.84 0.24\n"
     ]
    }
   ],
   "source": [
    "# Average performance of several episodes\n",
    "save_name = 'pickles/evaluate_complex.pickle'\n",
    "\n",
    "print('File is:', save_name)\n",
    "data = get_data(save_name, vis=True)\n",
    "\n",
    "[time_taken, total_rewards, local_steps_mean, rewards_x, rewards_y, black_rewards] = data\n",
    "\n",
    "\n",
    "print('*'*50)\n",
    "print('Total Episodes:', len(total_rewards))\n",
    "print('Average Steps:', int(np.mean(local_steps_mean)), int(np.std(local_steps_mean)))\n",
    "print('Average Time per step (ms):', round(np.mean(time_taken)*1000.0, 2), round(np.std(time_taken)*1000.0, 2))\n",
    "print('%Tracking:', int(np.mean(local_steps_mean))/20, int(np.std(local_steps_mean))/20)\n",
    "print('center_x:', round(np.mean(rewards_x),2), round(np.std(rewards_x),2))\n",
    "print('center_y:', round(np.mean(rewards_y),2), round(np.std(rewards_y),2))\n",
    "print('obj_size:', round(np.mean(black_rewards),2), round(np.std(black_rewards),2))\n",
    "\n",
    "print('*'*200)\n",
    "print(round(np.mean(local_steps_mean)/20, 1), round(np.mean(rewards_x),2), round(np.mean(rewards_y),2), round(np.mean(black_rewards),2))"
   ]
  },
  {
   "cell_type": "markdown",
   "metadata": {},
   "source": [
    "### Simple-Scenes: Tracking car in Fixed background\n",
    "- Peformance is variable in each run with STD as shown in paper\n",
    "- It can go ~ 95% tracking duration as reported."
   ]
  },
  {
   "cell_type": "code",
   "execution_count": 19,
   "metadata": {},
   "outputs": [
    {
     "name": "stdout",
     "output_type": "stream",
     "text": [
      "File is: pickles/evaluate_simple.pickle\n",
      "Total episodes: 20\n",
      "Average Steps: 1885 400\n",
      "Avg Time taken: 32\n",
      "Average Reward is: 239.7\n",
      "%tracking is: 94.25\n",
      "obj_size: 0.24 0.1\n",
      "**************************************************\n",
      "**************************************************\n",
      "Total Episodes: 20\n",
      "Average Steps: 1885 400\n",
      "Average Time per step (ms): 32.12 3.93\n",
      "%Tracking: 94.25 20.0\n",
      "center_x: 0.81 0.13\n",
      "center_y: 0.84 0.13\n",
      "obj_size: 0.24 0.1\n",
      "********************************************************************************************************************************************************************************************************\n",
      "94.3 0.81 0.84 0.24\n"
     ]
    }
   ],
   "source": [
    "# Average performance of several episodes\n",
    "save_name = 'pickles/evaluate_simple.pickle'\n",
    "\n",
    "print('File is:', save_name)\n",
    "data = get_data(save_name, vis=True)\n",
    "\n",
    "[time_taken, total_rewards, local_steps_mean, rewards_x, rewards_y, black_rewards] = data\n",
    "\n",
    "\n",
    "print('*'*50)\n",
    "print('Total Episodes:', len(total_rewards))\n",
    "print('Average Steps:', int(np.mean(local_steps_mean)), int(np.std(local_steps_mean)))\n",
    "print('Average Time per step (ms):', round(np.mean(time_taken)*1000.0, 2), round(np.std(time_taken)*1000.0, 2))\n",
    "print('%Tracking:', int(np.mean(local_steps_mean))/20, int(np.std(local_steps_mean))/20)\n",
    "print('center_x:', round(np.mean(rewards_x),2), round(np.std(rewards_x),2))\n",
    "print('center_y:', round(np.mean(rewards_y),2), round(np.std(rewards_y),2))\n",
    "print('obj_size:', round(np.mean(black_rewards),2), round(np.std(black_rewards),2))\n",
    "\n",
    "print('*'*200)\n",
    "print(round(np.mean(local_steps_mean)/20, 1), round(np.mean(rewards_x),2), round(np.mean(rewards_y),2), round(np.mean(black_rewards),2))"
   ]
  },
  {
   "cell_type": "code",
   "execution_count": null,
   "metadata": {},
   "outputs": [],
   "source": []
  }
 ],
 "metadata": {
  "kernelspec": {
   "display_name": "Python 3",
   "language": "python",
   "name": "python3"
  },
  "language_info": {
   "codemirror_mode": {
    "name": "ipython",
    "version": 3
   },
   "file_extension": ".py",
   "mimetype": "text/x-python",
   "name": "python",
   "nbconvert_exporter": "python",
   "pygments_lexer": "ipython3",
   "version": "3.8.10"
  }
 },
 "nbformat": 4,
 "nbformat_minor": 5
}
