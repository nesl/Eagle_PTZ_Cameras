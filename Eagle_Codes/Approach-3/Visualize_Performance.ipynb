{
 "cells": [
  {
   "cell_type": "markdown",
   "metadata": {},
   "source": [
    "# See the runtime performance of Approach"
   ]
  },
  {
   "cell_type": "code",
   "execution_count": 1,
   "metadata": {},
   "outputs": [],
   "source": [
    "# function to get data from pickle\n",
    "import pickle\n",
    "import numpy as np\n",
    "\n",
    "\n",
    "def get_data(save_name, vis = False):\n",
    "    with open(save_name, 'rb') as handle:\n",
    "        data = pickle.load(handle)\n",
    "    \n",
    "    [time_taken, total_rewards, local_steps_mean, rewards_x, rewards_y, black_rewards] = data\n",
    "    \n",
    "    if vis:\n",
    "        print('Total episodes:', len(total_rewards))\n",
    "        print('Average Steps:', int(np.mean(local_steps_mean)), int(np.std(local_steps_mean)))\n",
    "        print('Avg Time taken:', int(np.mean(time_taken)*1000))\n",
    "        print('Average Reward is:', round(np.mean(total_rewards),2))\n",
    "        print('%tracking is:', int(np.mean(local_steps_mean))/20)\n",
    "        print('obj_size:', round(np.mean(black_rewards),2), round(np.std(black_rewards),2))\n",
    "        print('*'*50)\n",
    "    \n",
    "    time_taken = np.array(time_taken)\n",
    "    total_rewards = np.array(total_rewards)\n",
    "    local_steps_mean = np.array(local_steps_mean)\n",
    "    rewards_x = np.array(rewards_x)\n",
    "    rewards_y = np.array(rewards_y)\n",
    "    black_rewards = np.array(black_rewards)\n",
    "    \n",
    "    return [time_taken, total_rewards, local_steps_mean, rewards_x, rewards_y, black_rewards]"
   ]
  },
  {
   "cell_type": "markdown",
   "metadata": {},
   "source": [
    "## Testing of NN+Controller\n",
    "- Performance may differ a little on each run, and depending on simulation delays in server machine"
   ]
  },
  {
   "cell_type": "markdown",
   "metadata": {},
   "source": [
    "### Complex-Scenes: Tracking car with Humans+Trees+Variable backgrounds\n",
    "- Peformance is in ~50% tracking:"
   ]
  },
  {
   "cell_type": "code",
   "execution_count": 2,
   "metadata": {},
   "outputs": [
    {
     "name": "stdout",
     "output_type": "stream",
     "text": [
      "File is: models/complex.pickle\n",
      "Total episodes: 100\n",
      "Average Steps: 1071 631\n",
      "Avg Time taken: 21\n",
      "Average Reward is: 162.2\n",
      "%tracking is: 53.55\n",
      "obj_size: 0.23 0.07\n",
      "**************************************************\n",
      "**************************************************\n",
      "Total Episodes: 100\n",
      "Average Steps: 1071 631\n",
      "Average Time per step (ms): 21.84 2.78\n",
      "%Tracking: 53.55 31.55\n",
      "center_x: 0.86 0.13\n",
      "center_y: 0.85 0.16\n",
      "obj_size: 0.23 0.07\n",
      "********************************************************************************************************************************************************************************************************\n",
      "53.6 0.86 0.85 0.23\n"
     ]
    }
   ],
   "source": [
    "# Average performance of several episodes\n",
    "save_name = 'models/complex.pickle'\n",
    "\n",
    "print('File is:', save_name)\n",
    "data = get_data(save_name, vis=True)\n",
    "\n",
    "[time_taken, total_rewards, local_steps_mean, rewards_x, rewards_y, black_rewards] = data\n",
    "\n",
    "\n",
    "print('*'*50)\n",
    "print('Total Episodes:', len(total_rewards))\n",
    "print('Average Steps:', int(np.mean(local_steps_mean)), int(np.std(local_steps_mean)))\n",
    "print('Average Time per step (ms):', round(np.mean(time_taken)*1000.0, 2), round(np.std(time_taken)*1000.0, 2))\n",
    "print('%Tracking:', int(np.mean(local_steps_mean))/20, int(np.std(local_steps_mean))/20)\n",
    "print('center_x:', round(np.mean(rewards_x),2), round(np.std(rewards_x),2))\n",
    "print('center_y:', round(np.mean(rewards_y),2), round(np.std(rewards_y),2))\n",
    "print('obj_size:', round(np.mean(black_rewards),2), round(np.std(black_rewards),2))\n",
    "\n",
    "print('*'*200)\n",
    "print(round(np.mean(local_steps_mean)/20, 1), round(np.mean(rewards_x),2), round(np.mean(rewards_y),2), round(np.mean(black_rewards),2))"
   ]
  },
  {
   "cell_type": "markdown",
   "metadata": {},
   "source": [
    "### Simple-Scenes: Tracking car in Fixed background\n",
    "- Peformance is in ~80% tracking"
   ]
  },
  {
   "cell_type": "code",
   "execution_count": 3,
   "metadata": {},
   "outputs": [
    {
     "name": "stdout",
     "output_type": "stream",
     "text": [
      "File is: models/Simple.pickle\n",
      "Total episodes: 100\n",
      "Average Steps: 1624 593\n",
      "Avg Time taken: 28\n",
      "Average Reward is: 225.26\n",
      "%tracking is: 81.2\n",
      "obj_size: 0.22 0.07\n",
      "**************************************************\n",
      "**************************************************\n",
      "Total Episodes: 100\n",
      "Average Steps: 1624 593\n",
      "Average Time per step (ms): 28.39 2.41\n",
      "%Tracking: 81.2 29.65\n",
      "center_x: 0.84 0.14\n",
      "center_y: 0.83 0.17\n",
      "obj_size: 0.22 0.07\n",
      "********************************************************************************************************************************************************************************************************\n",
      "81.2 0.84 0.83 0.22\n"
     ]
    }
   ],
   "source": [
    "# Average performance of several episodes\n",
    "save_name = 'models/Simple.pickle'\n",
    "\n",
    "print('File is:', save_name)\n",
    "data = get_data(save_name, vis=True)\n",
    "\n",
    "[time_taken, total_rewards, local_steps_mean, rewards_x, rewards_y, black_rewards] = data\n",
    "\n",
    "\n",
    "print('*'*50)\n",
    "print('Total Episodes:', len(total_rewards))\n",
    "print('Average Steps:', int(np.mean(local_steps_mean)), int(np.std(local_steps_mean)))\n",
    "print('Average Time per step (ms):', round(np.mean(time_taken)*1000.0, 2), round(np.std(time_taken)*1000.0, 2))\n",
    "print('%Tracking:', int(np.mean(local_steps_mean))/20, int(np.std(local_steps_mean))/20)\n",
    "print('center_x:', round(np.mean(rewards_x),2), round(np.std(rewards_x),2))\n",
    "print('center_y:', round(np.mean(rewards_y),2), round(np.std(rewards_y),2))\n",
    "print('obj_size:', round(np.mean(black_rewards),2), round(np.std(black_rewards),2))\n",
    "\n",
    "print('*'*200)\n",
    "print(round(np.mean(local_steps_mean)/20, 1), round(np.mean(rewards_x),2), round(np.mean(rewards_y),2), round(np.mean(black_rewards),2))"
   ]
  },
  {
   "cell_type": "code",
   "execution_count": null,
   "metadata": {},
   "outputs": [],
   "source": []
  }
 ],
 "metadata": {
  "kernelspec": {
   "display_name": "Python 3",
   "language": "python",
   "name": "python3"
  },
  "language_info": {
   "codemirror_mode": {
    "name": "ipython",
    "version": 3
   },
   "file_extension": ".py",
   "mimetype": "text/x-python",
   "name": "python",
   "nbconvert_exporter": "python",
   "pygments_lexer": "ipython3",
   "version": "3.8.10"
  }
 },
 "nbformat": 4,
 "nbformat_minor": 5
}
