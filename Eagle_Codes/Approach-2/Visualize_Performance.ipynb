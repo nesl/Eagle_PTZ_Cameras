{
 "cells": [
  {
   "cell_type": "markdown",
   "metadata": {},
   "source": [
    "# See the runtime performance of Approach"
   ]
  },
  {
   "cell_type": "code",
   "execution_count": 1,
   "metadata": {},
   "outputs": [],
   "source": [
    "# function to get data from pickle\n",
    "import pickle\n",
    "import numpy as np\n",
    "\n",
    "\n",
    "def get_data(save_name, vis = False):\n",
    "    with open(save_name, 'rb') as handle:\n",
    "        data = pickle.load(handle)\n",
    "    \n",
    "    [time_taken, total_rewards, local_steps_mean, rewards_x, rewards_y, black_rewards] = data\n",
    "    \n",
    "    if vis:\n",
    "        print('Total episodes:', len(total_rewards))\n",
    "        print('Average Steps:', int(np.mean(local_steps_mean)), int(np.std(local_steps_mean)))\n",
    "        print('Avg Time taken:', int(np.mean(time_taken)*1000))\n",
    "        print('Average Reward is:', round(np.mean(total_rewards),2))\n",
    "        print('%tracking is:', int(np.mean(local_steps_mean))/20)\n",
    "        print('obj_size:', round(np.mean(black_rewards),2), round(np.std(black_rewards),2))\n",
    "        print('*'*50)\n",
    "    \n",
    "    time_taken = np.array(time_taken)\n",
    "    total_rewards = np.array(total_rewards)\n",
    "    local_steps_mean = np.array(local_steps_mean)\n",
    "    rewards_x = np.array(rewards_x)\n",
    "    rewards_y = np.array(rewards_y)\n",
    "    black_rewards = np.array(black_rewards)\n",
    "    \n",
    "    return [time_taken, total_rewards, local_steps_mean, rewards_x, rewards_y, black_rewards]"
   ]
  },
  {
   "cell_type": "markdown",
   "metadata": {},
   "source": [
    "## Testing of PerfectBB+DeepRL\n",
    "- Performance may differ a little on each run, and depending on simulation delays in server machine\n",
    "- Overall %tracking is maintained >98% on an average across runs\n",
    "- In Pefect Bounding-boxes, performance doesn't depend on scene complexity"
   ]
  },
  {
   "cell_type": "code",
   "execution_count": 2,
   "metadata": {},
   "outputs": [
    {
     "name": "stdout",
     "output_type": "stream",
     "text": [
      "File is: models/PerfectBB_Drl.pickle\n",
      "Total episodes: 100\n",
      "Average Steps: 1971 170\n",
      "Avg Time taken: 25\n",
      "Average Reward is: 382.14\n",
      "%tracking is: 98.55\n",
      "obj_size: 0.36 0.12\n",
      "**************************************************\n",
      "**************************************************\n",
      "Total Episodes: 100\n",
      "Average Steps: 1971 170\n",
      "Average Time per step (ms): 25.48 1.24\n",
      "%Tracking: 98.55 8.5\n",
      "center_x: 0.85 0.12\n",
      "center_y: 0.81 0.16\n",
      "obj_size: 0.36 0.12\n",
      "********************************************************************************************************************************************************************************************************\n",
      "98.6 0.85 0.81 0.36\n"
     ]
    }
   ],
   "source": [
    "# Average performance\n",
    "save_name = 'models/PerfectBB_Drl.pickle'\n",
    "\n",
    "print('File is:', save_name)\n",
    "data = get_data(save_name, vis=True)\n",
    "\n",
    "[time_taken, total_rewards, local_steps_mean, rewards_x, rewards_y, black_rewards] = data\n",
    "\n",
    "\n",
    "print('*'*50)\n",
    "print('Total Episodes:', len(total_rewards))\n",
    "print('Average Steps:', int(np.mean(local_steps_mean)), int(np.std(local_steps_mean)))\n",
    "print('Average Time per step (ms):', round(np.mean(time_taken)*1000.0, 2), round(np.std(time_taken)*1000.0, 2))\n",
    "print('%Tracking:', int(np.mean(local_steps_mean))/20, int(np.std(local_steps_mean))/20)\n",
    "print('center_x:', round(np.mean(rewards_x),2), round(np.std(rewards_x),2))\n",
    "print('center_y:', round(np.mean(rewards_y),2), round(np.std(rewards_y),2))\n",
    "print('obj_size:', round(np.mean(black_rewards),2), round(np.std(black_rewards),2))\n",
    "\n",
    "print('*'*200)\n",
    "print(round(np.mean(local_steps_mean)/20, 1), round(np.mean(rewards_x),2), round(np.mean(rewards_y),2), round(np.mean(black_rewards),2))"
   ]
  },
  {
   "cell_type": "markdown",
   "metadata": {},
   "source": [
    "## Testing of Yolo+DeepRL\n",
    "- Performance may differ a little on each run, and depending on simulation delays in server machine\n",
    "- Overall tracking is poor with Yolo\n",
    "- Yolo noisy outputs doesn't work with Deep_RL which expect perfect observations as in training"
   ]
  },
  {
   "cell_type": "markdown",
   "metadata": {},
   "source": [
    "### Complex-Scenes: Tracking car with Humans+Trees+Variable backgrounds\n",
    "- Peformance is in ~37% tracking:"
   ]
  },
  {
   "cell_type": "code",
   "execution_count": 4,
   "metadata": {},
   "outputs": [
    {
     "name": "stdout",
     "output_type": "stream",
     "text": [
      "File is: models/yolo_complexScenes.pickle\n",
      "Total episodes: 170\n",
      "Average Steps: 747 401\n",
      "Avg Time taken: 24\n",
      "Average Reward is: 40.62\n",
      "%tracking is: 37.35\n",
      "obj_size: 0.18 0.18\n",
      "**************************************************\n",
      "**************************************************\n",
      "Total Episodes: 170\n",
      "Average Steps: 747 401\n",
      "Average Time per step (ms): 24.33 3.95\n",
      "%Tracking: 37.35 20.05\n",
      "center_x: 0.84 0.15\n",
      "center_y: 0.84 0.16\n",
      "obj_size: 0.18 0.18\n",
      "********************************************************************************************************************************************************************************************************\n",
      "37.4 0.84 0.84 0.18\n"
     ]
    }
   ],
   "source": [
    "# Average performance of several episodes\n",
    "save_name = 'models/yolo_complexScenes.pickle'\n",
    "\n",
    "print('File is:', save_name)\n",
    "data = get_data(save_name, vis=True)\n",
    "\n",
    "[time_taken, total_rewards, local_steps_mean, rewards_x, rewards_y, black_rewards] = data\n",
    "\n",
    "\n",
    "print('*'*50)\n",
    "print('Total Episodes:', len(total_rewards))\n",
    "print('Average Steps:', int(np.mean(local_steps_mean)), int(np.std(local_steps_mean)))\n",
    "print('Average Time per step (ms):', round(np.mean(time_taken)*1000.0, 2), round(np.std(time_taken)*1000.0, 2))\n",
    "print('%Tracking:', int(np.mean(local_steps_mean))/20, int(np.std(local_steps_mean))/20)\n",
    "print('center_x:', round(np.mean(rewards_x),2), round(np.std(rewards_x),2))\n",
    "print('center_y:', round(np.mean(rewards_y),2), round(np.std(rewards_y),2))\n",
    "print('obj_size:', round(np.mean(black_rewards),2), round(np.std(black_rewards),2))\n",
    "\n",
    "print('*'*200)\n",
    "print(round(np.mean(local_steps_mean)/20, 1), round(np.mean(rewards_x),2), round(np.mean(rewards_y),2), round(np.mean(black_rewards),2))"
   ]
  },
  {
   "cell_type": "markdown",
   "metadata": {},
   "source": [
    "### Simple-Scenes: Tracking car in Fixed background\n",
    "- Peformance is in ~40% tracking"
   ]
  },
  {
   "cell_type": "code",
   "execution_count": 5,
   "metadata": {},
   "outputs": [
    {
     "name": "stdout",
     "output_type": "stream",
     "text": [
      "File is: models/yolo_simpleScenes.pickle\n",
      "Total episodes: 174\n",
      "Average Steps: 830 500\n",
      "Avg Time taken: 30\n",
      "Average Reward is: 46.6\n",
      "%tracking is: 41.5\n",
      "obj_size: 0.19 0.19\n",
      "**************************************************\n",
      "**************************************************\n",
      "Total Episodes: 174\n",
      "Average Steps: 830 500\n",
      "Average Time per step (ms): 30.48 4.11\n",
      "%Tracking: 41.5 25.0\n",
      "center_x: 0.85 0.15\n",
      "center_y: 0.83 0.16\n",
      "obj_size: 0.19 0.19\n",
      "********************************************************************************************************************************************************************************************************\n",
      "41.5 0.85 0.83 0.19\n"
     ]
    }
   ],
   "source": [
    "# Average performance of several episodes\n",
    "save_name = 'models/yolo_simpleScenes.pickle'\n",
    "\n",
    "print('File is:', save_name)\n",
    "data = get_data(save_name, vis=True)\n",
    "\n",
    "[time_taken, total_rewards, local_steps_mean, rewards_x, rewards_y, black_rewards] = data\n",
    "\n",
    "\n",
    "print('*'*50)\n",
    "print('Total Episodes:', len(total_rewards))\n",
    "print('Average Steps:', int(np.mean(local_steps_mean)), int(np.std(local_steps_mean)))\n",
    "print('Average Time per step (ms):', round(np.mean(time_taken)*1000.0, 2), round(np.std(time_taken)*1000.0, 2))\n",
    "print('%Tracking:', int(np.mean(local_steps_mean))/20, int(np.std(local_steps_mean))/20)\n",
    "print('center_x:', round(np.mean(rewards_x),2), round(np.std(rewards_x),2))\n",
    "print('center_y:', round(np.mean(rewards_y),2), round(np.std(rewards_y),2))\n",
    "print('obj_size:', round(np.mean(black_rewards),2), round(np.std(black_rewards),2))\n",
    "\n",
    "print('*'*200)\n",
    "print(round(np.mean(local_steps_mean)/20, 1), round(np.mean(rewards_x),2), round(np.mean(rewards_y),2), round(np.mean(black_rewards),2))"
   ]
  },
  {
   "cell_type": "code",
   "execution_count": null,
   "metadata": {},
   "outputs": [],
   "source": []
  }
 ],
 "metadata": {
  "kernelspec": {
   "display_name": "Python 3",
   "language": "python",
   "name": "python3"
  },
  "language_info": {
   "codemirror_mode": {
    "name": "ipython",
    "version": 3
   },
   "file_extension": ".py",
   "mimetype": "text/x-python",
   "name": "python",
   "nbconvert_exporter": "python",
   "pygments_lexer": "ipython3",
   "version": "3.8.10"
  }
 },
 "nbformat": 4,
 "nbformat_minor": 5
}
